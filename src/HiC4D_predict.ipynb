{
 "cells": [
  {
   "cell_type": "code",
   "execution_count": 1,
   "id": "b51853db-c805-42d9-aea6-0bdee53977e3",
   "metadata": {},
   "outputs": [],
   "source": [
    "\n",
    "import numpy as np\n",
    "import cooler\n"
   ]
  },
  {
   "cell_type": "code",
   "execution_count": 2,
   "id": "9092a8ce-fe71-499e-a10e-76278ba53c12",
   "metadata": {},
   "outputs": [],
   "source": [
    "\n",
    "# Author: Tong liu\n",
    "# 08/30/2022\n"
   ]
  },
  {
   "cell_type": "code",
   "execution_count": 6,
   "id": "feb24c0d-68c6-447d-ba9c-aadc2892b3b6",
   "metadata": {},
   "outputs": [
    {
     "name": "stdout",
     "output_type": "stream",
     "text": [
      "chr6 (6, 1230, 50, 50) (1230, 6, 50, 50) (6, 1230, 2) (1230, 6, 2)\n"
     ]
    }
   ],
   "source": [
    "##### get testing input data\n",
    "\n",
    "\n",
    "# time point ids\n",
    "ids = [\"PN5\",\"early_2cell\",\"late_2cell\",\"8cell\",\"ICM\",\"mESC_500\"]\n",
    "\n",
    "chrs_test = ['chr6']\n",
    "resolution = 40000\n",
    "sub_mat_n = int(2_000_000 / resolution)\n",
    "dir_data = \"./data/\"\n",
    "num_bins_all = []\n",
    "\n",
    "for chr in range(1,21):\n",
    "\n",
    "    chrid = 'chr'+str(chr)\n",
    "    if chr == 20:\n",
    "        chrid = 'chrX'\n",
    "    if chrid not in chrs_test:\n",
    "        continue\n",
    "\n",
    "    dat_timePoints = []\n",
    "    dat_index = []\n",
    "    for idx, timePoint in enumerate(ids):\n",
    " \n",
    "        ficool = dir_data+\"cool_40kb_downsample/\"+timePoint + \".cool\"\n",
    "        clr = cooler.Cooler(ficool)\n",
    "   \n",
    "        chr_len = clr.chromsizes[chrid]\n",
    "        mat_chr = clr.matrix(balance=False).fetch(chrid)\n",
    "        mat_chr2 = np.nan_to_num(mat_chr)\n",
    "        \n",
    "        bins = mat_chr2.shape[0]\n",
    "        if idx == 0:\n",
    "            num_bins_all.append(bins)\n",
    "        subMats = []\n",
    "        index = []\n",
    "        #print(chrid, chr_len, mat.shape)\n",
    "        for i in range(0, bins, 3):\n",
    "            if i+sub_mat_n >= bins:\n",
    "                continue\n",
    "            subMat = mat_chr2[i:i+sub_mat_n, i:i+sub_mat_n]\n",
    "            subMats.append(subMat)\n",
    "            index.append((i, i))\n",
    "        \n",
    "        subMats = np.array(subMats)\n",
    "        index = np.array(index)\n",
    "        dat_timePoints.append(subMats)\n",
    "        dat_index.append(index)\n",
    "        \n",
    "            \n",
    "    dat_timePoints = np.array(dat_timePoints)\n",
    "    dat_timePoints2 = np.transpose(dat_timePoints, (1,0,2,3))\n",
    "    dat_index = np.array(dat_index)\n",
    "    dat_index2 = np.transpose(dat_index, (1,0,2))\n",
    "    \n",
    "    print(chrid, dat_timePoints.shape, dat_timePoints2.shape, dat_index.shape, dat_index2.shape)\n",
    "    np.save(dir_data+\"data_test_\"+chrid, dat_timePoints2)\n",
    "    np.save(dir_data+\"data_test_index_\"+chrid, dat_index2)\n",
    "    "
   ]
  },
  {
   "cell_type": "code",
   "execution_count": null,
   "id": "e09833fa-6a43-4c24-86b1-71818cb67721",
   "metadata": {},
   "outputs": [],
   "source": [
    "\n",
    "##### run the following command for predicting Hi-C of the last three time steps\n",
    "\n",
    "# sh HiC4D_predict.sh\n",
    "\n"
   ]
  },
  {
   "cell_type": "code",
   "execution_count": null,
   "id": "f36914dd-a75c-48b6-9014-0f89df530a53",
   "metadata": {},
   "outputs": [],
   "source": [
    "\n",
    "##### combine the predicted submatrices to get the final big matrix\n"
   ]
  },
  {
   "cell_type": "code",
   "execution_count": 11,
   "id": "4212d75e-a6c2-4e1f-8d1e-86fe5fbedd96",
   "metadata": {},
   "outputs": [],
   "source": [
    "\n",
    "def get_predictions(file_predict, file_index, num_bins, sub_mat_n=50):\n",
    "    \n",
    "    dat_predict = np.load(file_predict)\n",
    "    dat_index = np.load(file_index)\n",
    "    \n",
    "    predictions = []\n",
    "    for i in range(-3,0):\n",
    "        tid = \"t\"+str(i+7)\n",
    "        mat_chr = np.zeros((num_bins, num_bins))\n",
    "        mat_n = np.zeros((num_bins, num_bins))\n",
    "        for j in range(dat_predict.shape[0]):\n",
    "            i1, i2 = dat_index[j, i]\n",
    "            \n",
    "            mat_chr[i1:(i1+sub_mat_n), i2:(i2+sub_mat_n)] += dat_predict[j, i]\n",
    "            mat_n[i1:(i1+sub_mat_n), i2:(i2+sub_mat_n)] += 1\n",
    "     \n",
    "        mat_chr2 = np.divide(mat_chr, mat_n, out=np.zeros_like(mat_chr), where=mat_n!=0)\n",
    "        predictions.append(mat_chr2)\n",
    "    \n",
    "    return predictions\n"
   ]
  },
  {
   "cell_type": "code",
   "execution_count": 13,
   "id": "e6f0c93d-4989-4502-8499-7db517c24463",
   "metadata": {},
   "outputs": [
    {
     "name": "stdout",
     "output_type": "stream",
     "text": [
      "(3, 3738, 3738)\n"
     ]
    }
   ],
   "source": [
    "\n",
    "file_predict = \"./data/chr6_predicted.npy\"\n",
    "file_index = \"./data/data_test_index_chr6.npy\"\n",
    "file_out = \"./data/chr6_predicted_final\"\n",
    "\n",
    "predict_mat = get_predictions(file_predict, file_index, num_bins_all[0])\n",
    "\n",
    "# for t4, t5, and t6\n",
    "print(np.array(predict_mat).shape)\n",
    "np.save(file_out, np.array(predict_mat))"
   ]
  },
  {
   "cell_type": "code",
   "execution_count": null,
   "id": "4961e856-53f6-434c-bc67-bbc5693856df",
   "metadata": {},
   "outputs": [],
   "source": []
  }
 ],
 "metadata": {
  "kernelspec": {
   "display_name": "Python 3 (ipykernel)",
   "language": "python",
   "name": "python3"
  },
  "language_info": {
   "codemirror_mode": {
    "name": "ipython",
    "version": 3
   },
   "file_extension": ".py",
   "mimetype": "text/x-python",
   "name": "python",
   "nbconvert_exporter": "python",
   "pygments_lexer": "ipython3",
   "version": "3.9.10"
  }
 },
 "nbformat": 4,
 "nbformat_minor": 5
}
